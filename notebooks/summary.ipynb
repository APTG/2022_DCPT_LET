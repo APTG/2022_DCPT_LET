{
 "cells": [
  {
   "cell_type": "markdown",
   "metadata": {},
   "source": [
    "# Imports"
   ]
  },
  {
   "cell_type": "code",
   "execution_count": 5,
   "metadata": {},
   "outputs": [
    {
     "data": {
      "text/plain": [
       "WindowsPath('C:/Users/Legion/workspace/2022_DCPT_LET')"
      ]
     },
     "execution_count": 5,
     "metadata": {},
     "output_type": "execute_result"
    }
   ],
   "source": [
    "import pandas as pd\n",
    "from pathlib import Path\n",
    "from src.paths import project_dir\n",
    "project_dir"
   ]
  },
  {
   "cell_type": "markdown",
   "metadata": {},
   "source": [
    "# SHIELD-HIT12A data"
   ]
  },
  {
   "cell_type": "code",
   "execution_count": 6,
   "metadata": {},
   "outputs": [
    {
     "data": {
      "text/plain": [
       "WindowsPath('C:/Users/Legion/workspace/2022_DCPT_LET/data/processed/shield_hit12a_results')"
      ]
     },
     "execution_count": 6,
     "metadata": {},
     "output_type": "execute_result"
    }
   ],
   "source": [
    "shield_hit12a_results_paths = project_dir / 'data' / 'processed' / 'shield_hit12a_results'\n",
    "shield_hit12a_results_paths\n"
   ]
  },
  {
   "cell_type": "code",
   "execution_count": 7,
   "metadata": {},
   "outputs": [
    {
     "data": {
      "text/plain": [
       "{'p1': 'dose',\n",
       " 'p2': 'dLET all',\n",
       " 'p3': 'dLET primaries',\n",
       " 'p4': 'dLET protons',\n",
       " 'p5': 'tLET all',\n",
       " 'p6': 'tLET primaries',\n",
       " 'p7': 'tLET protons'}"
      ]
     },
     "execution_count": 7,
     "metadata": {},
     "output_type": "execute_result"
    }
   ],
   "source": [
    "pages_to_quantity = {\n",
    "    'p1' : 'dose',\n",
    "    'p2' : 'dLET all',\n",
    "    'p3' : 'dLET primaries',\n",
    "    'p4' : 'dLET protons',\n",
    "    'p5' : 'tLET all',\n",
    "    'p6' : 'tLET primaries',\n",
    "    'p7' : 'tLET protons',\n",
    "}\n",
    "pages_to_quantity"
   ]
  }
 ],
 "metadata": {
  "kernelspec": {
   "display_name": "Python 3",
   "language": "python",
   "name": "python3"
  },
  "language_info": {
   "codemirror_mode": {
    "name": "ipython",
    "version": 3
   },
   "file_extension": ".py",
   "mimetype": "text/x-python",
   "name": "python",
   "nbconvert_exporter": "python",
   "pygments_lexer": "ipython3",
   "version": "3.11.5"
  },
  "orig_nbformat": 4
 },
 "nbformat": 4,
 "nbformat_minor": 2
}
